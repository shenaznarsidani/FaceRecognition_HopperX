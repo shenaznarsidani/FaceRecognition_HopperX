{
 "cells": [
  {
   "cell_type": "code",
   "execution_count": null,
   "metadata": {},
   "outputs": [],
   "source": [
    "import cv2 as cv"
   ]
  },
  {
   "cell_type": "code",
   "execution_count": null,
   "metadata": {},
   "outputs": [],
   "source": [
    "\n",
    "def face_detection(img):\n",
    "    gray_img = cv.cvtColor(img, cv.COLOR_BGR2GRAY)\n",
    "    face_haar_cascade = cv.CascadeClassifier('H:\\Computer Vision\\haarcascade_frontalface_default.xml')\n",
    "    face_coords = face_haar_cascade.detectMultiScale(gray_img, scaleFactor=1.32, minNeighbors=5)\n",
    "    return face_coords, gray_img\n"
   ]
  },
  {
   "cell_type": "code",
   "execution_count": null,
   "metadata": {},
   "outputs": [],
   "source": [
    "\n",
    "test_img = cv.imread(r\"H:\\Computer Vision\\random_images\\testimages\\obama.jpg\")\n",
    "faces_detected, img = face_detection(test_img)\n",
    "print(\"faces detected=\", faces_detected)\n",
    "\n",
    "# Draw Rectangle around face\n",
    "for (x, y, w, h) in faces_detected:\n",
    "    cv.rectangle(test_img, (x, y), (x + w, y + h), (255, 0, 0), thickness=5)\n",
    "\n",
    "# Display image\n",
    "cv.namedWindow('Display Window', cv.WINDOW_NORMAL)\n",
    "cv.imshow(\"Display Window\", test_img)\n",
    "cv.waitKey(0)\n",
    "cv.destroyAllWindows()\n"
   ]
  },
  {
   "cell_type": "code",
   "execution_count": null,
   "metadata": {},
   "outputs": [],
   "source": [
    "cap = cv.VideoCapture(0)\n",
    "\n",
    "while cap.isOpened():\n",
    "    ret, frame = cap.read()\n",
    "    faces_detected, img = face_detection(frame)\n",
    "    print(\"faces detected=\", faces_detected)\n",
    "\n",
    "    # Draw Rectangle around face\n",
    "    for (x, y, w, h) in faces_detected:\n",
    "        cv.rectangle(frame, (x, y), (x + w, y + h), (255, 0, 0), thickness=5)\n",
    "\n",
    "    cv.imshow(\"Display Window\", frame)\n",
    "    k = cv.waitKey(5)\n",
    "    if k == 27:\n",
    "        break\n",
    "\n",
    "cap.release()\n",
    "cv.destroyAllWindows()"
   ]
  }
 ],
 "metadata": {
  "kernelspec": {
   "display_name": "Python 3",
   "language": "python",
   "name": "python3"
  },
  "language_info": {
   "codemirror_mode": {
    "name": "ipython",
    "version": 3
   },
   "file_extension": ".py",
   "mimetype": "text/x-python",
   "name": "python",
   "nbconvert_exporter": "python",
   "pygments_lexer": "ipython3",
   "version": "3.6.4"
  }
 },
 "nbformat": 4,
 "nbformat_minor": 4
}
