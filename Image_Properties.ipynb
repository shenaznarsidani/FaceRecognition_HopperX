{
 "cells": [
  {
   "cell_type": "code",
   "execution_count": null,
   "metadata": {},
   "outputs": [],
   "source": [
    "import cv2 as cv\n",
    "\n",
    "#Read the image\n",
    "img = cv.imread(r\"H:\\Computer Vision\\random_images\\testimages\\opencv_logo.png\")\n",
    "\n",
    "# Gray scale\n",
    "gray_img = cv.cvtColor(img, cv.COLOR_BGR2GRAY)\n",
    "\n",
    "# Display image\n",
    "cv.imshow(\"Display Window\", gray_img)\n",
    "cv.waitKey(0)\n",
    "cv.destroyAllWindows()"
   ]
  },
  {
   "cell_type": "code",
   "execution_count": null,
   "metadata": {},
   "outputs": [],
   "source": [
    "import cv2 as cv\n",
    "\n",
    "img = cv.imread(r\"H:\\Computer Vision\\random_images\\testimages\\opencv_logo.png\")\n",
    "print(\"Original dimensions: \", img.shape)\n",
    "\n",
    "# Resize \n",
    "w =200\n",
    "h =200\n",
    "resized_img = cv.resize(img, (w, h), interpolation=cv.INTER_AREA)\n",
    "print(\"Resized dimensions: \", resized_img.shape)\n",
    "\n",
    "# Display image\n",
    "cv.imshow(\"Display Window\", img)\n",
    "cv.imshow(\"Resized\", resized_img)\n",
    "cv.waitKey(0)\n",
    "cv.destroyAllWindows()\n"
   ]
  }
 ],
 "metadata": {
  "kernelspec": {
   "display_name": "Python 3",
   "language": "python",
   "name": "python3"
  },
  "language_info": {
   "codemirror_mode": {
    "name": "ipython",
    "version": 3
   },
   "file_extension": ".py",
   "mimetype": "text/x-python",
   "name": "python",
   "nbconvert_exporter": "python",
   "pygments_lexer": "ipython3",
   "version": "3.6.4"
  }
 },
 "nbformat": 4,
 "nbformat_minor": 4
}
